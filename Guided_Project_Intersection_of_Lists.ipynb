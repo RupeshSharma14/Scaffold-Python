{
  "nbformat": 4,
  "nbformat_minor": 0,
  "metadata": {
    "kernelspec": {
      "display_name": "Python 3",
      "language": "python",
      "name": "python3"
    },
    "language_info": {
      "codemirror_mode": {
        "name": "ipython",
        "version": 3
      },
      "file_extension": ".py",
      "mimetype": "text/x-python",
      "name": "python",
      "nbconvert_exporter": "python",
      "pygments_lexer": "ipython3",
      "version": "3.7.1"
    },
    "colab": {
      "name": "Guided Project - Intersection of Lists.ipynb",
      "provenance": [],
      "collapsed_sections": [],
      "include_colab_link": true
    }
  },
  "cells": [
    {
      "cell_type": "markdown",
      "metadata": {
        "id": "view-in-github",
        "colab_type": "text"
      },
      "source": [
        "<a href=\"https://colab.research.google.com/github/RupeshSharma14/Scaffold-Python/blob/main/Guided_Project_Intersection_of_Lists.ipynb\" target=\"_parent\"><img src=\"https://colab.research.google.com/assets/colab-badge.svg\" alt=\"Open In Colab\"/></a>"
      ]
    },
    {
      "cell_type": "markdown",
      "metadata": {
        "id": "rtBrwN-Aexbo"
      },
      "source": [
        "Given a list of n lists, write a function which returns the intersection of all the n lists. Each list can have any number of elements.\n",
        "\n",
        "Example 1:\n",
        "\n",
        "```\n",
        "input = [[5, 5, 5, 8, 10], \n",
        "      [5, 5, 7, 8], \n",
        "      [5, 5, 8, 9, 11]]\n",
        "```\n",
        "\n",
        "```\n",
        "output = [5, 5, 8]\n",
        "```\n",
        "\n",
        "Example 2:\n",
        "\n",
        "```\n",
        "input = [[5, 6], \n",
        "      [5, 5, 7, 8], \n",
        "      [5, 5, 8, 9]]\n",
        "```\n",
        "\n",
        "\n",
        "```\n",
        "output = [5]\n",
        "```"
      ]
    },
    {
      "cell_type": "code",
      "metadata": {
        "id": "zlNSWO_JEl3h"
      },
      "source": [
        "input = [[5, 5, 5, 8, 10], \n",
        "      [5, 5, 7, 8], \n",
        "      [5, 5, 8, 9, 11]]"
      ],
      "execution_count": null,
      "outputs": []
    },
    {
      "cell_type": "markdown",
      "metadata": {
        "id": "ch3yY5tD_Ucx"
      },
      "source": [
        "Approach\n",
        "\n",
        "1. Find the shortest sub-list\n",
        "2. Find the number of counts of each element of the list and store it in the dict.\n",
        "3. Traverse through the each list, count the number of times element is repeated and compare it with min count dict.\n"
      ]
    },
    {
      "cell_type": "code",
      "metadata": {
        "id": "ots_5ywvF4eo"
      },
      "source": [
        "def findMinimumLengthList(input):\n",
        "\n",
        "  comparison_length = len(input[0])\n",
        "  minimum_len = input[0]\n",
        "\n",
        "  for list_ in input:\n",
        "    if len(list_) < comparison_length:\n",
        "      minimum_len = list_\n",
        "      comparison_length = len(list_)\n",
        "\n",
        "  return minimum_len"
      ],
      "execution_count": null,
      "outputs": []
    },
    {
      "cell_type": "code",
      "metadata": {
        "colab": {
          "base_uri": "https://localhost:8080/"
        },
        "id": "h9awCaveQezQ",
        "outputId": "900b7761-4016-498a-946e-6abd11d123a1"
      },
      "source": [
        "main_list = findMinimumLengthList(input)\n",
        "print(main_list)"
      ],
      "execution_count": null,
      "outputs": [
        {
          "output_type": "stream",
          "text": [
            "[5, 5, 7, 8]\n"
          ],
          "name": "stdout"
        }
      ]
    },
    {
      "cell_type": "code",
      "metadata": {
        "id": "rsEDJZo9Q2Wv"
      },
      "source": [
        "def create_hashmap(main_list):\n",
        "  \n",
        "  intersection_dict = dict()\n",
        "  for elem in set(main_list):\n",
        "    intersection_dict[elem] = main_list.count(elem)\n",
        "\n",
        "  return intersection_dict"
      ],
      "execution_count": null,
      "outputs": []
    },
    {
      "cell_type": "code",
      "metadata": {
        "colab": {
          "base_uri": "https://localhost:8080/"
        },
        "id": "_vR4HqyzvepR",
        "outputId": "b441cdef-2e46-4529-9de6-c2686c6ffb2b"
      },
      "source": [
        "hashmap = create_hashmap(main_list)\n",
        "print(hashmap)"
      ],
      "execution_count": null,
      "outputs": [
        {
          "output_type": "stream",
          "text": [
            "{8: 1, 5: 2, 7: 1}\n"
          ],
          "name": "stdout"
        }
      ]
    },
    {
      "cell_type": "code",
      "metadata": {
        "colab": {
          "base_uri": "https://localhost:8080/"
        },
        "id": "FTRPk3ZZvj3Y",
        "outputId": "5718a4ab-ef47-4e52-993b-2e102cbc78ef"
      },
      "source": [
        "def comparison(input, hashmap):\n",
        "\n",
        "  for dict_key in hashmap:\n",
        "    for elem in input:\n",
        "      if hashmap[dict_key] > elem.count(dict_key):\n",
        "        hashmap[dict_key] = elem.count(dict_key)\n",
        "  \n",
        "  return hashmap\n",
        "\n",
        "\n",
        "final_hashmap = comparison(input, hashmap)\n",
        "print(final_hashmap)"
      ],
      "execution_count": null,
      "outputs": [
        {
          "output_type": "stream",
          "text": [
            "{8: 1, 5: 2, 7: 0}\n"
          ],
          "name": "stdout"
        }
      ]
    },
    {
      "cell_type": "code",
      "metadata": {
        "colab": {
          "base_uri": "https://localhost:8080/"
        },
        "id": "8P3sFkwoxdaL",
        "outputId": "7e5e02ec-dbed-4353-f817-fbaad8ef83a5"
      },
      "source": [
        "def getFinalList(final_hashmap):\n",
        "\n",
        "  final_intersection = []\n",
        "\n",
        "  for key in final_hashmap:\n",
        "    final_intersection = final_intersection + [key] * final_hashmap[key]\n",
        "\n",
        "  return final_intersection\n",
        "\n",
        "answer = getFinalList(final_hashmap)\n",
        "print(answer)"
      ],
      "execution_count": null,
      "outputs": [
        {
          "output_type": "stream",
          "text": [
            "[8, 5, 5]\n"
          ],
          "name": "stdout"
        }
      ]
    },
    {
      "cell_type": "code",
      "metadata": {
        "colab": {
          "base_uri": "https://localhost:8080/"
        },
        "id": "JX8UunAU2Z5o",
        "outputId": "20a4a0ba-094a-449e-c6af-1fd24396e566"
      },
      "source": [
        "print(final_intersection)"
      ],
      "execution_count": null,
      "outputs": [
        {
          "output_type": "stream",
          "text": [
            "[8, 5, 5]\n"
          ],
          "name": "stdout"
        }
      ]
    },
    {
      "cell_type": "code",
      "metadata": {
        "id": "2-WrF3gW2b4S"
      },
      "source": [
        "def getIntersection(input):\n",
        "\n",
        "  if len(input) == 0:\n",
        "    return \"Empty list given\"\n",
        "  else:\n",
        "    main_list = findMinimumLengthList(input)\n",
        "    hashmap = create_hashmap(main_list)\n",
        "    final_hashmap = comparison(input, hashmap)\n",
        "    answer = getFinalList(final_hashmap)\n",
        "\n",
        "    return answer"
      ],
      "execution_count": null,
      "outputs": []
    },
    {
      "cell_type": "code",
      "metadata": {
        "colab": {
          "base_uri": "https://localhost:8080/"
        },
        "id": "QNg6pmkl4Ilf",
        "outputId": "721f10c7-ee7d-4b77-ef12-37d1f36c376c"
      },
      "source": [
        "getIntersection(input)"
      ],
      "execution_count": null,
      "outputs": [
        {
          "output_type": "execute_result",
          "data": {
            "text/plain": [
              "[8, 5, 5]"
            ]
          },
          "metadata": {
            "tags": []
          },
          "execution_count": 30
        }
      ]
    },
    {
      "cell_type": "code",
      "metadata": {
        "id": "zH7pkuhz4LwB"
      },
      "source": [
        ""
      ],
      "execution_count": null,
      "outputs": []
    }
  ]
}